{
 "cells": [
  {
   "cell_type": "markdown",
   "id": "f076f09c",
   "metadata": {},
   "source": [
    "\n",
    "# 🎬 Checkpoint #2 — Clustering com Sklearn (Somente Sinopses)\n",
    "**Notebook:** 03_sklearn_synopsis_only.ipynb  \n",
    "**Aluno:** Thiago Almança da Silva — RM558108  \n",
    "\n",
    "---\n",
    "\n",
    "## 🎯 Objetivo\n",
    "Aplicar **TF-IDF + KMeans (Sklearn)** utilizando apenas as **sinopses** dos filmes do IMDB Top 250.  \n",
    "\n",
    "Fluxo principal:  \n",
    "\n",
    "- Vetorização TF-IDF das sinopses  \n",
    "- Redução de dimensionalidade com TruncatedSVD  \n",
    "- Clusterização com KMeans  \n",
    "- Avaliação por métricas de coesão e separação  \n",
    "- Visualizações em 2D/3D para interpretação dos clusters  \n",
    "\n",
    "---\n"
   ]
  },
  {
   "cell_type": "code",
   "execution_count": 8,
   "id": "7e7b6049",
   "metadata": {},
   "outputs": [],
   "source": [
    "\n",
    "# ===============================================\n",
    "# 📦 Imports Principais\n",
    "# ===============================================\n",
    "import pandas as pd\n",
    "import numpy as np\n",
    "import seaborn as sns\n",
    "import matplotlib.pyplot as plt\n",
    "\n",
    "from sklearn.feature_extraction.text import TfidfVectorizer\n",
    "from sklearn.decomposition import TruncatedSVD\n",
    "from sklearn.cluster import KMeans\n",
    "from sklearn.metrics import silhouette_score, calinski_harabasz_score, davies_bouldin_score\n",
    "\n",
    "import joblib\n",
    "from rich.console import Console\n",
    "\n",
    "console = Console()\n",
    "sns.set(style=\"whitegrid\", palette=\"muted\", font_scale=1.1)\n"
   ]
  },
  {
   "cell_type": "code",
   "execution_count": 9,
   "id": "13a288fe",
   "metadata": {},
   "outputs": [
    {
     "data": {
      "text/html": [
       "<pre style=\"white-space:pre;overflow-x:auto;line-height:normal;font-family:Menlo,'DejaVu Sans Mono',consolas,'Courier New',monospace\"><span style=\"color: #00ff00; text-decoration-color: #00ff00\">─────────────────────────────────────────────── </span><span style=\"color: #000080; text-decoration-color: #000080; font-weight: bold\">1</span><span style=\"color: #000080; text-decoration-color: #000080; font-weight: bold\">) Carregando dados</span><span style=\"color: #00ff00; text-decoration-color: #00ff00\"> ───────────────────────────────────────────────</span>\n",
       "</pre>\n"
      ],
      "text/plain": [
       "\u001b[92m─────────────────────────────────────────────── \u001b[0m\u001b[1;34m1\u001b[0m\u001b[1;34m)\u001b[0m\u001b[1;34m Carregando dados\u001b[0m\u001b[92m ───────────────────────────────────────────────\u001b[0m\n"
      ]
     },
     "metadata": {},
     "output_type": "display_data"
    },
    {
     "data": {
      "text/html": [
       "<pre style=\"white-space:pre;overflow-x:auto;line-height:normal;font-family:Menlo,'DejaVu Sans Mono',consolas,'Courier New',monospace\"><span style=\"color: #008000; text-decoration-color: #008000\">✅ Dataset carregado com </span><span style=\"color: #008000; text-decoration-color: #008000; font-weight: bold\">25</span><span style=\"color: #008000; text-decoration-color: #008000\"> filmes</span>\n",
       "</pre>\n"
      ],
      "text/plain": [
       "\u001b[32m✅ Dataset carregado com \u001b[0m\u001b[1;32m25\u001b[0m\u001b[32m filmes\u001b[0m\n"
      ]
     },
     "metadata": {},
     "output_type": "display_data"
    },
    {
     "data": {
      "text/html": [
       "<div>\n",
       "<style scoped>\n",
       "    .dataframe tbody tr th:only-of-type {\n",
       "        vertical-align: middle;\n",
       "    }\n",
       "\n",
       "    .dataframe tbody tr th {\n",
       "        vertical-align: top;\n",
       "    }\n",
       "\n",
       "    .dataframe thead th {\n",
       "        text-align: right;\n",
       "    }\n",
       "</style>\n",
       "<table border=\"1\" class=\"dataframe\">\n",
       "  <thead>\n",
       "    <tr style=\"text-align: right;\">\n",
       "      <th></th>\n",
       "      <th>title</th>\n",
       "      <th>year</th>\n",
       "      <th>rating</th>\n",
       "      <th>votes</th>\n",
       "      <th>runtime_minutes</th>\n",
       "      <th>genres</th>\n",
       "      <th>synopsis</th>\n",
       "    </tr>\n",
       "  </thead>\n",
       "  <tbody>\n",
       "    <tr>\n",
       "      <th>0</th>\n",
       "      <td>The Shawshank Redemption</td>\n",
       "      <td>1994</td>\n",
       "      <td>9.3</td>\n",
       "      <td>NaN</td>\n",
       "      <td>142</td>\n",
       "      <td>NaN</td>\n",
       "      <td>A banker convicted of uxoricide forms a friend...</td>\n",
       "    </tr>\n",
       "    <tr>\n",
       "      <th>1</th>\n",
       "      <td>The Godfather</td>\n",
       "      <td>1972</td>\n",
       "      <td>9.2</td>\n",
       "      <td>NaN</td>\n",
       "      <td>175</td>\n",
       "      <td>NaN</td>\n",
       "      <td>The aging patriarch of an organized crime dyna...</td>\n",
       "    </tr>\n",
       "    <tr>\n",
       "      <th>2</th>\n",
       "      <td>The Dark Knight</td>\n",
       "      <td>2008</td>\n",
       "      <td>9.1</td>\n",
       "      <td>NaN</td>\n",
       "      <td>152</td>\n",
       "      <td>NaN</td>\n",
       "      <td>When a menace known as the Joker wreaks havoc ...</td>\n",
       "    </tr>\n",
       "    <tr>\n",
       "      <th>3</th>\n",
       "      <td>The Godfather Part II</td>\n",
       "      <td>1974</td>\n",
       "      <td>9.0</td>\n",
       "      <td>NaN</td>\n",
       "      <td>202</td>\n",
       "      <td>NaN</td>\n",
       "      <td>The early life and career of Vito Corleone in ...</td>\n",
       "    </tr>\n",
       "    <tr>\n",
       "      <th>4</th>\n",
       "      <td>12 Angry Men</td>\n",
       "      <td>1957</td>\n",
       "      <td>9.0</td>\n",
       "      <td>NaN</td>\n",
       "      <td>96</td>\n",
       "      <td>NaN</td>\n",
       "      <td>The jury in a New York City murder trial is fr...</td>\n",
       "    </tr>\n",
       "  </tbody>\n",
       "</table>\n",
       "</div>"
      ],
      "text/plain": [
       "                      title  year  rating  votes  runtime_minutes  genres  \\\n",
       "0  The Shawshank Redemption  1994     9.3    NaN              142     NaN   \n",
       "1             The Godfather  1972     9.2    NaN              175     NaN   \n",
       "2           The Dark Knight  2008     9.1    NaN              152     NaN   \n",
       "3     The Godfather Part II  1974     9.0    NaN              202     NaN   \n",
       "4              12 Angry Men  1957     9.0    NaN               96     NaN   \n",
       "\n",
       "                                            synopsis  \n",
       "0  A banker convicted of uxoricide forms a friend...  \n",
       "1  The aging patriarch of an organized crime dyna...  \n",
       "2  When a menace known as the Joker wreaks havoc ...  \n",
       "3  The early life and career of Vito Corleone in ...  \n",
       "4  The jury in a New York City murder trial is fr...  "
      ]
     },
     "execution_count": 9,
     "metadata": {},
     "output_type": "execute_result"
    }
   ],
   "source": [
    "\n",
    "# ===============================================\n",
    "# 1) 📂 Carregar dados\n",
    "# ===============================================\n",
    "console.rule(\"[bold blue]1) Carregando dados\")\n",
    "\n",
    "df = pd.read_csv(\"data/imdb_top250_raw.csv\")\n",
    "df = df.dropna(subset=[\"synopsis\"]).reset_index(drop=True)\n",
    "\n",
    "console.print(f\"[green]✅ Dataset carregado com {len(df)} filmes\")\n",
    "df[[\"title\",\"year\",\"rating\",\"votes\",\"runtime_minutes\",\"genres\",\"synopsis\"]].head()\n"
   ]
  },
  {
   "cell_type": "code",
   "execution_count": 10,
   "id": "ce898620",
   "metadata": {},
   "outputs": [
    {
     "data": {
      "text/html": [
       "<pre style=\"white-space:pre;overflow-x:auto;line-height:normal;font-family:Menlo,'DejaVu Sans Mono',consolas,'Courier New',monospace\"><span style=\"color: #00ff00; text-decoration-color: #00ff00\">────────────────────────────────────────────── </span><span style=\"color: #000080; text-decoration-color: #000080; font-weight: bold\">2</span><span style=\"color: #000080; text-decoration-color: #000080; font-weight: bold\">) Vetorização TF-IDF</span><span style=\"color: #00ff00; text-decoration-color: #00ff00\"> ──────────────────────────────────────────────</span>\n",
       "</pre>\n"
      ],
      "text/plain": [
       "\u001b[92m────────────────────────────────────────────── \u001b[0m\u001b[1;34m2\u001b[0m\u001b[1;34m)\u001b[0m\u001b[1;34m Vetorização TF-IDF\u001b[0m\u001b[92m ──────────────────────────────────────────────\u001b[0m\n"
      ]
     },
     "metadata": {},
     "output_type": "display_data"
    },
    {
     "data": {
      "text/html": [
       "<pre style=\"white-space:pre;overflow-x:auto;line-height:normal;font-family:Menlo,'DejaVu Sans Mono',consolas,'Courier New',monospace\"><span style=\"color: #008000; text-decoration-color: #008000\">✅ TF-IDF final com shape </span><span style=\"color: #008000; text-decoration-color: #008000; font-weight: bold\">(</span><span style=\"color: #008000; text-decoration-color: #008000; font-weight: bold\">25</span><span style=\"color: #008000; text-decoration-color: #008000\">, </span><span style=\"color: #008000; text-decoration-color: #008000; font-weight: bold\">332</span><span style=\"color: #008000; text-decoration-color: #008000; font-weight: bold\">)</span>\n",
       "</pre>\n"
      ],
      "text/plain": [
       "\u001b[32m✅ TF-IDF final com shape \u001b[0m\u001b[1;32m(\u001b[0m\u001b[1;32m25\u001b[0m\u001b[32m, \u001b[0m\u001b[1;32m332\u001b[0m\u001b[1;32m)\u001b[0m\n"
      ]
     },
     "metadata": {},
     "output_type": "display_data"
    }
   ],
   "source": [
    "\n",
    "# ===============================================\n",
    "# 2) 🔠 Vetorização TF-IDF\n",
    "# ===============================================\n",
    "console.rule(\"[bold blue]2) Vetorização TF-IDF\")\n",
    "\n",
    "vectorizer = TfidfVectorizer(stop_words=\"english\", max_features=5000)\n",
    "X_tfidf = vectorizer.fit_transform(df[\"synopsis\"])\n",
    "\n",
    "console.print(f\"[green]✅ TF-IDF final com shape {X_tfidf.shape}\")\n"
   ]
  },
  {
   "cell_type": "code",
   "execution_count": 11,
   "id": "b3b24d53",
   "metadata": {},
   "outputs": [
    {
     "data": {
      "text/html": [
       "<pre style=\"white-space:pre;overflow-x:auto;line-height:normal;font-family:Menlo,'DejaVu Sans Mono',consolas,'Courier New',monospace\"><span style=\"color: #00ff00; text-decoration-color: #00ff00\">────────────────────────────────────── </span><span style=\"color: #000080; text-decoration-color: #000080; font-weight: bold\">3</span><span style=\"color: #000080; text-decoration-color: #000080; font-weight: bold\">) Redução de dimensionalidade (SVD)</span><span style=\"color: #00ff00; text-decoration-color: #00ff00\"> ───────────────────────────────────────</span>\n",
       "</pre>\n"
      ],
      "text/plain": [
       "\u001b[92m────────────────────────────────────── \u001b[0m\u001b[1;34m3\u001b[0m\u001b[1;34m)\u001b[0m\u001b[1;34m Redução de dimensionalidade \u001b[0m\u001b[1;34m(\u001b[0m\u001b[1;34mSVD\u001b[0m\u001b[1;34m)\u001b[0m\u001b[92m ───────────────────────────────────────\u001b[0m\n"
      ]
     },
     "metadata": {},
     "output_type": "display_data"
    },
    {
     "data": {
      "image/png": "[encoded data removed]",
      "text/plain": [
       "<Figure size 800x500 with 1 Axes>"
      ]
     },
     "metadata": {},
     "output_type": "display_data"
    }
   ],
   "source": [
    "\n",
    "# ===============================================\n",
    "# 3) 🔽 Redução de Dimensionalidade\n",
    "# ===============================================\n",
    "console.rule(\"[bold blue]3) Redução de dimensionalidade (SVD)\")\n",
    "\n",
    "n_components = min(50, X_tfidf.shape[1]-1)\n",
    "svd = TruncatedSVD(n_components=n_components, random_state=42)\n",
    "X_reduced = svd.fit_transform(X_tfidf)\n",
    "\n",
    "explained_variance = np.cumsum(svd.explained_variance_ratio_)\n",
    "\n",
    "plt.figure(figsize=(8,5))\n",
    "plt.plot(range(1, len(explained_variance)+1), explained_variance, marker=\"o\")\n",
    "plt.title(\"Variância Explicada Acumulada\")\n",
    "plt.xlabel(\"Nº de Componentes\")\n",
    "plt.ylabel(\"Variância Explicada\")\n",
    "plt.grid(True)\n",
    "plt.show()\n",
    "\n"
   ]
  },
  {
   "cell_type": "code",
   "execution_count": 12,
   "id": "d8bbd4aa",
   "metadata": {},
   "outputs": [
    {
     "data": {
      "text/html": [
       "<pre style=\"white-space:pre;overflow-x:auto;line-height:normal;font-family:Menlo,'DejaVu Sans Mono',consolas,'Courier New',monospace\"><span style=\"color: #00ff00; text-decoration-color: #00ff00\">─────────────────────────────────────────── </span><span style=\"color: #000080; text-decoration-color: #000080; font-weight: bold\">4</span><span style=\"color: #000080; text-decoration-color: #000080; font-weight: bold\">) Clusterização com KMeans</span><span style=\"color: #00ff00; text-decoration-color: #00ff00\"> ───────────────────────────────────────────</span>\n",
       "</pre>\n"
      ],
      "text/plain": [
       "\u001b[92m─────────────────────────────────────────── \u001b[0m\u001b[1;34m4\u001b[0m\u001b[1;34m)\u001b[0m\u001b[1;34m Clusterização com KMeans\u001b[0m\u001b[92m ───────────────────────────────────────────\u001b[0m\n"
      ]
     },
     "metadata": {},
     "output_type": "display_data"
    },
    {
     "data": {
      "text/html": [
       "<pre style=\"white-space:pre;overflow-x:auto;line-height:normal;font-family:Menlo,'DejaVu Sans Mono',consolas,'Courier New',monospace\"><span style=\"color: #008000; text-decoration-color: #008000\">✅ Clusterização concluída com </span><span style=\"color: #008000; text-decoration-color: #008000; font-weight: bold\">5</span><span style=\"color: #008000; text-decoration-color: #008000\"> clusters</span>\n",
       "</pre>\n"
      ],
      "text/plain": [
       "\u001b[32m✅ Clusterização concluída com \u001b[0m\u001b[1;32m5\u001b[0m\u001b[32m clusters\u001b[0m\n"
      ]
     },
     "metadata": {},
     "output_type": "display_data"
    },
    {
     "data": {
      "text/html": [
       "<div>\n",
       "<style scoped>\n",
       "    .dataframe tbody tr th:only-of-type {\n",
       "        vertical-align: middle;\n",
       "    }\n",
       "\n",
       "    .dataframe tbody tr th {\n",
       "        vertical-align: top;\n",
       "    }\n",
       "\n",
       "    .dataframe thead th {\n",
       "        text-align: right;\n",
       "    }\n",
       "</style>\n",
       "<table border=\"1\" class=\"dataframe\">\n",
       "  <thead>\n",
       "    <tr style=\"text-align: right;\">\n",
       "      <th></th>\n",
       "      <th>title</th>\n",
       "      <th>cluster</th>\n",
       "    </tr>\n",
       "  </thead>\n",
       "  <tbody>\n",
       "    <tr>\n",
       "      <th>0</th>\n",
       "      <td>The Shawshank Redemption</td>\n",
       "      <td>4</td>\n",
       "    </tr>\n",
       "    <tr>\n",
       "      <th>1</th>\n",
       "      <td>The Godfather</td>\n",
       "      <td>3</td>\n",
       "    </tr>\n",
       "    <tr>\n",
       "      <th>2</th>\n",
       "      <td>The Dark Knight</td>\n",
       "      <td>4</td>\n",
       "    </tr>\n",
       "    <tr>\n",
       "      <th>3</th>\n",
       "      <td>The Godfather Part II</td>\n",
       "      <td>3</td>\n",
       "    </tr>\n",
       "    <tr>\n",
       "      <th>4</th>\n",
       "      <td>12 Angry Men</td>\n",
       "      <td>3</td>\n",
       "    </tr>\n",
       "    <tr>\n",
       "      <th>5</th>\n",
       "      <td>The Lord of the Rings: The Return of the King</td>\n",
       "      <td>0</td>\n",
       "    </tr>\n",
       "    <tr>\n",
       "      <th>6</th>\n",
       "      <td>Schindler's List</td>\n",
       "      <td>0</td>\n",
       "    </tr>\n",
       "    <tr>\n",
       "      <th>7</th>\n",
       "      <td>The Lord of the Rings: The Fellowship of the Ring</td>\n",
       "      <td>0</td>\n",
       "    </tr>\n",
       "    <tr>\n",
       "      <th>8</th>\n",
       "      <td>Pulp Fiction</td>\n",
       "      <td>1</td>\n",
       "    </tr>\n",
       "    <tr>\n",
       "      <th>9</th>\n",
       "      <td>The Good, the Bad and the Ugly</td>\n",
       "      <td>2</td>\n",
       "    </tr>\n",
       "  </tbody>\n",
       "</table>\n",
       "</div>"
      ],
      "text/plain": [
       "                                               title  cluster\n",
       "0                           The Shawshank Redemption        4\n",
       "1                                      The Godfather        3\n",
       "2                                    The Dark Knight        4\n",
       "3                              The Godfather Part II        3\n",
       "4                                       12 Angry Men        3\n",
       "5      The Lord of the Rings: The Return of the King        0\n",
       "6                                   Schindler's List        0\n",
       "7  The Lord of the Rings: The Fellowship of the Ring        0\n",
       "8                                       Pulp Fiction        1\n",
       "9                     The Good, the Bad and the Ugly        2"
      ]
     },
     "execution_count": 12,
     "metadata": {},
     "output_type": "execute_result"
    }
   ],
   "source": [
    "\n",
    "# ===============================================\n",
    "# 4) 🤖 Clusterização com KMeans\n",
    "# ===============================================\n",
    "console.rule(\"[bold blue]4) Clusterização com KMeans\")\n",
    "\n",
    "k = 5\n",
    "kmeans = KMeans(n_clusters=k, random_state=42, n_init=10)\n",
    "clusters = kmeans.fit_predict(X_reduced)\n",
    "\n",
    "df[\"cluster\"] = clusters\n",
    "console.print(f\"[green]✅ Clusterização concluída com {k} clusters\")\n",
    "df[[\"title\",\"cluster\"]].head(10)\n"
   ]
  },
  {
   "cell_type": "code",
   "execution_count": 13,
   "id": "31b264bf",
   "metadata": {},
   "outputs": [
    {
     "data": {
      "text/html": [
       "<pre style=\"white-space:pre;overflow-x:auto;line-height:normal;font-family:Menlo,'DejaVu Sans Mono',consolas,'Courier New',monospace\"><span style=\"color: #00ff00; text-decoration-color: #00ff00\">──────────────────────────────────────────── </span><span style=\"color: #000080; text-decoration-color: #000080; font-weight: bold\">5</span><span style=\"color: #000080; text-decoration-color: #000080; font-weight: bold\">) Avaliação dos Clusters</span><span style=\"color: #00ff00; text-decoration-color: #00ff00\"> ────────────────────────────────────────────</span>\n",
       "</pre>\n"
      ],
      "text/plain": [
       "\u001b[92m──────────────────────────────────────────── \u001b[0m\u001b[1;34m5\u001b[0m\u001b[1;34m)\u001b[0m\u001b[1;34m Avaliação dos Clusters\u001b[0m\u001b[92m ────────────────────────────────────────────\u001b[0m\n"
      ]
     },
     "metadata": {},
     "output_type": "display_data"
    },
    {
     "data": {
      "text/html": [
       "<pre style=\"white-space:pre;overflow-x:auto;line-height:normal;font-family:Menlo,'DejaVu Sans Mono',consolas,'Courier New',monospace\">📌 Silhouette Score: <span style=\"color: #008080; text-decoration-color: #008080; font-weight: bold\">0.012</span>\n",
       "</pre>\n"
      ],
      "text/plain": [
       "📌 Silhouette Score: \u001b[1;36m0.012\u001b[0m\n"
      ]
     },
     "metadata": {},
     "output_type": "display_data"
    },
    {
     "data": {
      "text/html": [
       "<pre style=\"white-space:pre;overflow-x:auto;line-height:normal;font-family:Menlo,'DejaVu Sans Mono',consolas,'Courier New',monospace\">📌 Calinski-Harabasz Index: <span style=\"color: #008080; text-decoration-color: #008080; font-weight: bold\">1.136</span>\n",
       "</pre>\n"
      ],
      "text/plain": [
       "📌 Calinski-Harabasz Index: \u001b[1;36m1.136\u001b[0m\n"
      ]
     },
     "metadata": {},
     "output_type": "display_data"
    },
    {
     "data": {
      "text/html": [
       "<pre style=\"white-space:pre;overflow-x:auto;line-height:normal;font-family:Menlo,'DejaVu Sans Mono',consolas,'Courier New',monospace\">📌 Davies-Bouldin Index: <span style=\"color: #008080; text-decoration-color: #008080; font-weight: bold\">2.822</span>\n",
       "</pre>\n"
      ],
      "text/plain": [
       "📌 Davies-Bouldin Index: \u001b[1;36m2.822\u001b[0m\n"
      ]
     },
     "metadata": {},
     "output_type": "display_data"
    }
   ],
   "source": [
    "\n",
    "# ===============================================\n",
    "# 5) 📊 Avaliação\n",
    "# ===============================================\n",
    "console.rule(\"[bold blue]5) Avaliação dos Clusters\")\n",
    "\n",
    "sil = silhouette_score(X_reduced, clusters)\n",
    "ch = calinski_harabasz_score(X_reduced, clusters)\n",
    "db = davies_bouldin_score(X_reduced, clusters)\n",
    "\n",
    "console.print(f\"📌 Silhouette Score: {sil:.3f}\")\n",
    "console.print(f\"📌 Calinski-Harabasz Index: {ch:.3f}\")\n",
    "console.print(f\"📌 Davies-Bouldin Index: {db:.3f}\")\n"
   ]
  },
  {
   "cell_type": "code",
   "execution_count": 14,
   "id": "cdaf0faa",
   "metadata": {},
   "outputs": [
    {
     "data": {
      "text/html": [
       "<pre style=\"white-space:pre;overflow-x:auto;line-height:normal;font-family:Menlo,'DejaVu Sans Mono',consolas,'Courier New',monospace\"><span style=\"color: #00ff00; text-decoration-color: #00ff00\">────────────────────────────────────────── </span><span style=\"color: #000080; text-decoration-color: #000080; font-weight: bold\">6</span><span style=\"color: #000080; text-decoration-color: #000080; font-weight: bold\">) Visualização dos clusters</span><span style=\"color: #00ff00; text-decoration-color: #00ff00\"> ───────────────────────────────────────────</span>\n",
       "</pre>\n"
      ],
      "text/plain": [
       "\u001b[92m────────────────────────────────────────── \u001b[0m\u001b[1;34m6\u001b[0m\u001b[1;34m)\u001b[0m\u001b[1;34m Visualização dos clusters\u001b[0m\u001b[92m ───────────────────────────────────────────\u001b[0m\n"
      ]
     },
     "metadata": {},
     "output_type": "display_data"
    },
    {
     "data": {
      "image/png": "[encoded data removed]",
      "text/plain": [
       "<Figure size 800x600 with 1 Axes>"
      ]
     },
     "metadata": {},
     "output_type": "display_data"
    }
   ],
   "source": [
    "\n",
    "# ===============================================\n",
    "# 6) 🎨 Visualização dos clusters\n",
    "# ===============================================\n",
    "console.rule(\"[bold blue]6) Visualização dos clusters\")\n",
    "\n",
    "plt.figure(figsize=(8,6))\n",
    "sns.scatterplot(x=X_reduced[:,0], y=X_reduced[:,1], hue=clusters, palette=\"tab10\", s=60, alpha=0.8)\n",
    "plt.title(\"Clusters de Filmes (SVD 2D)\")\n",
    "plt.show()\n"
   ]
  },
  {
   "cell_type": "code",
   "execution_count": 15,
   "id": "f43a6402",
   "metadata": {},
   "outputs": [],
   "source": [
    "# Imports necessários (se o kernel foi reiniciado)\n",
    "import numpy as np\n",
    "import pandas as pd\n",
    "\n",
    "from sklearn.cluster import KMeans          # ← FALTAVA ESTE\n",
    "from sklearn.metrics import silhouette_score, calinski_harabasz_score, davies_bouldin_score\n",
    "\n",
    "# garanta que X_reduced e df existem\n",
    "assert 'df' in globals(), \"df não está na memória — rode as células de carga/preparo.\"\n",
    "assert 'X_reduced' in globals(), \"X_reduced não está na memória — rode TF-IDF + SVD.\"\n"
   ]
  },
  {
   "cell_type": "code",
   "execution_count": 23,
   "id": "96d6bf70",
   "metadata": {},
   "outputs": [
    {
     "name": "stdout",
     "output_type": "stream",
     "text": [
      "✅ Arquivos exportados com clusters para: C:\\Users\\thi18\\Downloads\\projeto-imdb-recommender\\webapp\\data\n",
      "📌 Colunas: ['imdb_id', 'url', 'title', 'year', 'rating', 'votes', 'runtime_minutes', 'certificate', 'genres', 'directors', 'stars', 'synopsis', 'cluster']\n",
      "📊 Linhas: 25\n"
     ]
    }
   ],
   "source": [
    "# ===============================================\n",
    "# 7) Exportação final para o webapp\n",
    "# ===============================================\n",
    "from pathlib import Path\n",
    "\n",
    "# Garante que temos cluster\n",
    "if \"cluster\" not in df.columns:\n",
    "    if \"kmeans\" in globals() and \"X_reduced\" in globals():\n",
    "        df[\"cluster\"] = kmeans.predict(X_reduced)\n",
    "    else:\n",
    "        raise RuntimeError(\"Coluna 'cluster' não existe. Rode a clusterização antes da exportação.\")\n",
    "\n",
    "# Cria pasta destino\n",
    "out_dir = Path(\"../webapp/data\")\n",
    "out_dir.mkdir(parents=True, exist_ok=True)\n",
    "\n",
    "# Exporta datasets\n",
    "df.to_csv(out_dir / \"imdb_top250_k5_synopsis.csv\", index=False, encoding=\"utf-8\")\n",
    "df.to_csv(out_dir / \"imdb_top250_k5_allfeatures.csv\", index=False, encoding=\"utf-8\")\n",
    "\n",
    "print(\"✅ Arquivos exportados com clusters para:\", out_dir.resolve())\n",
    "print(\"📌 Colunas:\", df.columns.tolist())\n",
    "print(\"📊 Linhas:\", len(df))\n"
   ]
  },
  {
   "cell_type": "markdown",
   "id": "4a18c985",
   "metadata": {},
   "source": [
    "\n",
    "---\n",
    "# ✅ Conclusões\n",
    "\n",
    "- O modelo baseado **apenas em sinopses** gera clusters temáticos.  \n",
    "- Avaliações mostram coesão moderada, mas boa separação em gêneros narrativos.  \n",
    "- Os resultados serão comparados com o modelo **PyCaret All Features** (Notebook 04).  \n",
    "\n",
    "---\n"
   ]
  }
 ],
 "metadata": {
  "kernelspec": {
   "display_name": "Python 3",
   "language": "python",
   "name": "python3"
  },
  "language_info": {
   "codemirror_mode": {
    "name": "ipython",
    "version": 3
   },
   "file_extension": ".py",
   "mimetype": "text/x-python",
   "name": "python",
   "nbconvert_exporter": "python",
   "pygments_lexer": "ipython3",
   "version": "3.11.9"
  }
 },
 "nbformat": 4,
 "nbformat_minor": 5
}
